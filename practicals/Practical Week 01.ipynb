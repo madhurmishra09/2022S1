{
 "cells": [
  {
   "cell_type": "markdown",
   "metadata": {},
   "source": [
    "# 1. Simple Statistics and NLTK\n",
    "\n",
    "The following exercises use a portion of the Gutenberg corpus that is stored in the corpus dataset of NLTK. [The Project Gutenberg](http://www.gutenberg.org/) is a large collection of electronic books that are out of copyright. These books are free to download for reading, or for our case, for doing a little of corpus analysis.\n",
    "\n",
    "To obtain the list of files of NLTK's Gutenberg corpus, type the following commands:"
   ]
  },
  {
   "cell_type": "code",
   "execution_count": 4,
   "metadata": {},
   "outputs": [
    {
     "name": "stderr",
     "output_type": "stream",
     "text": [
      "[nltk_data] Error loading gutenberg: <urlopen error [Errno 11001]\n",
      "[nltk_data]     getaddrinfo failed>\n"
     ]
    },
    {
     "data": {
      "text/plain": [
       "['austen-emma.txt',\n",
       " 'austen-persuasion.txt',\n",
       " 'austen-sense.txt',\n",
       " 'bible-kjv.txt',\n",
       " 'blake-poems.txt',\n",
       " 'bryant-stories.txt',\n",
       " 'burgess-busterbrown.txt',\n",
       " 'carroll-alice.txt',\n",
       " 'chesterton-ball.txt',\n",
       " 'chesterton-brown.txt',\n",
       " 'chesterton-thursday.txt',\n",
       " 'edgeworth-parents.txt',\n",
       " 'melville-moby_dick.txt',\n",
       " 'milton-paradise.txt',\n",
       " 'shakespeare-caesar.txt',\n",
       " 'shakespeare-hamlet.txt',\n",
       " 'shakespeare-macbeth.txt',\n",
       " 'whitman-leaves.txt']"
      ]
     },
     "execution_count": 4,
     "metadata": {},
     "output_type": "execute_result"
    }
   ],
   "source": [
    "import nltk\n",
    "nltk.download('gutenberg')\n",
    "nltk.corpus.gutenberg.fileids()"
   ]
  },
  {
   "cell_type": "markdown",
   "metadata": {},
   "source": [
    "To obtain all words in the entire Gutenberg corpus of NLTK, type the following:"
   ]
  },
  {
   "cell_type": "code",
   "execution_count": 5,
   "metadata": {},
   "outputs": [],
   "source": [
    "gutenbergwords = nltk.corpus.gutenberg.words()"
   ]
  },
  {
   "cell_type": "markdown",
   "metadata": {},
   "source": [
    "Now you can find the total number of words, and the first 10 words (do not attempt to display all the words or your computer will freeze!):"
   ]
  },
  {
   "cell_type": "code",
   "execution_count": 6,
   "metadata": {},
   "outputs": [
    {
     "data": {
      "text/plain": [
       "2621613"
      ]
     },
     "execution_count": 6,
     "metadata": {},
     "output_type": "execute_result"
    }
   ],
   "source": [
    "len(gutenbergwords)"
   ]
  },
  {
   "cell_type": "code",
   "execution_count": 7,
   "metadata": {},
   "outputs": [
    {
     "data": {
      "text/plain": [
       "['[', 'Emma', 'by', 'Jane', 'Austen', '1816', ']', 'VOLUME', 'I', 'CHAPTER']"
      ]
     },
     "execution_count": 7,
     "metadata": {},
     "output_type": "execute_result"
    }
   ],
   "source": [
    "gutenbergwords[:10]"
   ]
  },
  {
   "cell_type": "markdown",
   "metadata": {},
   "source": [
    "You can also find the words of just a selection of documents, as shown below. For more details of what information you can extract from this corpus, read the \"Gutenberg corpus\" section of the [NLTK book chapter 2](http://www.nltk.org/book_1ed/ch02.html), section 2.1. "
   ]
  },
  {
   "cell_type": "code",
   "execution_count": 8,
   "metadata": {},
   "outputs": [
    {
     "data": {
      "text/plain": [
       "192427"
      ]
     },
     "execution_count": 8,
     "metadata": {},
     "output_type": "execute_result"
    }
   ],
   "source": [
    "emma = nltk.corpus.gutenberg.words('austen-emma.txt')\n",
    "len(emma)"
   ]
  },
  {
   "cell_type": "code",
   "execution_count": 9,
   "metadata": {},
   "outputs": [
    {
     "data": {
      "text/plain": [
       "['[', 'Emma', 'by', 'Jane', 'Austen', '1816', ']', 'VOLUME', 'I', 'CHAPTER']"
      ]
     },
     "execution_count": 9,
     "metadata": {},
     "output_type": "execute_result"
    }
   ],
   "source": [
    "emma[:10]"
   ]
  },
  {
   "cell_type": "markdown",
   "metadata": {},
   "source": [
    "As we have seen in the lectures, we can use Python's `collections.Counter` to find the most frequent words of a document from NLTK's Gutenberg collection. Below you can see how you can find the 5 most frequent words of the word list stored in the variable `emma`:"
   ]
  },
  {
   "cell_type": "code",
   "execution_count": 10,
   "metadata": {},
   "outputs": [
    {
     "name": "stdout",
     "output_type": "stream",
     "text": [
      "[(',', 11454), ('.', 6928), ('to', 5183), ('the', 4844), ('and', 4672)]\n"
     ]
    }
   ],
   "source": [
    "import collections\n",
    "emma_counter = collections.Counter(emma)\n",
    "print(emma_counter.most_common(5))"
   ]
  },
  {
   "cell_type": "markdown",
   "metadata": {},
   "source": [
    "### Exercise 1.1\n",
    "*Write Python code that prints the 10 most frequent words in each of the documents of the Gutenberg corpus. Can you identify any similarities among these list of most frequent words?*"
   ]
  },
  {
   "cell_type": "code",
   "execution_count": 11,
   "metadata": {},
   "outputs": [
    {
     "name": "stdout",
     "output_type": "stream",
     "text": [
      "[(',', 186091), ('the', 125748), ('and', 78846), ('.', 73746), ('of', 70078), (':', 47406), ('to', 46443), ('a', 32504), ('in', 31959), ('I', 30221)]\n"
     ]
    }
   ],
   "source": [
    "gutenbergwords_counter = collections.Counter(gutenbergwords)\n",
    "print(gutenbergwords_counter.most_common(10))"
   ]
  },
  {
   "cell_type": "markdown",
   "metadata": {},
   "source": [
    " The most common word is a comma. \n"
   ]
  },
  {
   "cell_type": "markdown",
   "metadata": {},
   "source": [
    "Exersise 1.2 \n",
    "Find the uique words with the length more than 17 characters in the complete Gutenbyrg corpus. \n",
    "Hint: to find the distinct number of items in python you can convert to a set. \n"
   ]
  },
  {
   "cell_type": "code",
   "execution_count": null,
   "metadata": {},
   "outputs": [],
   "source": []
  },
  {
   "cell_type": "code",
   "execution_count": 12,
   "metadata": {},
   "outputs": [
    {
     "name": "stdout",
     "output_type": "stream",
     "text": [
      "{'a', 'c', 'b'}\n",
      "3\n"
     ]
    }
   ],
   "source": [
    "my_list = ['a','b','c','a','c']\n",
    "my_set = set(my_list)\n",
    "print(my_set)\n",
    "print(len(my_set))"
   ]
  },
  {
   "cell_type": "code",
   "execution_count": 13,
   "metadata": {},
   "outputs": [
    {
     "name": "stdout",
     "output_type": "stream",
     "text": [
      "{'Mahershalalhashbaz', 'characteristically', 'uninterpenetratingly'}\n",
      "3\n"
     ]
    }
   ],
   "source": [
    "my_list = (gutenbergwords)\n",
    "moreThan17 = [my_list for my_list in gutenbergwords if len(my_list) > 17]\n",
    "moreThan17\n",
    "my_set = set(moreThan17)\n",
    "print(my_set)\n",
    "print(len(my_set))\n"
   ]
  },
  {
   "cell_type": "markdown",
   "metadata": {},
   "source": [
    "### Exercise 1.3\n",
    "*Find the words that are longer than 5 characters and occur more than 2000 times in the complete Gutenberg corpus.*\n"
   ]
  },
  {
   "cell_type": "code",
   "execution_count": 14,
   "metadata": {},
   "outputs": [
    {
     "name": "stdout",
     "output_type": "stream",
     "text": [
      "{'little', 'before', 'should', 'against', 'people', 'Israel', 'children'}\n",
      "7\n"
     ]
    }
   ],
   "source": [
    "\n",
    "\n",
    "my_list = (gutenbergwords)\n",
    "moreThan5 = [my_list for my_list in gutenbergwords if len(my_list) > 5]\n",
    "moreThan5\n",
    "occurance2000= [word for word in moreThan5 if gutenbergwords_counter[word] > 2000]\n",
    "occurance2000\n",
    "my_set = set(occurance2000)\n",
    "print(my_set)\n",
    "print(len(my_set))\n"
   ]
  },
  {
   "cell_type": "markdown",
   "metadata": {},
   "source": [
    "### Exercise 1.4\n",
    "*Find the average number of words in the documents of the NLTK Gutenberg corpus.*\n"
   ]
  },
  {
   "cell_type": "code",
   "execution_count": null,
   "metadata": {},
   "outputs": [],
   "source": []
  },
  {
   "cell_type": "markdown",
   "metadata": {},
   "source": [
    "### (Optional) Exercise 1.5\n",
    "*Find the Gutenberg document that has the longest average word length.*\n"
   ]
  },
  {
   "cell_type": "code",
   "execution_count": null,
   "metadata": {},
   "outputs": [],
   "source": [
    "\n"
   ]
  },
  {
   "cell_type": "markdown",
   "metadata": {},
   "source": [
    "### Exercise 1.6\n",
    "*Find the 10 most frequent bigrams in the entire Gutenberg corpus.*\n"
   ]
  },
  {
   "cell_type": "code",
   "execution_count": 14,
   "metadata": {},
   "outputs": [
    {
     "data": {
      "text/plain": [
       "[((',', 'and'), 41294),\n",
       " (('of', 'the'), 18912),\n",
       " (('in', 'the'), 9793),\n",
       " ((\"'\", 's'), 9781),\n",
       " ((';', 'and'), 7559),\n",
       " (('and', 'the'), 6432),\n",
       " (('the', 'LORD'), 5964),\n",
       " ((',', 'the'), 5957),\n",
       " ((',', 'I'), 5677),\n",
       " ((',', 'that'), 5352)]"
      ]
     },
     "execution_count": 14,
     "metadata": {},
     "output_type": "execute_result"
    }
   ],
   "source": []
  },
  {
   "cell_type": "markdown",
   "metadata": {},
   "source": [
    "### Exercise 1.7\n",
    "*Find the most frequent bigram that begins with \"Moby\" in Herman Melville's \"Moby Dick\".*"
   ]
  },
  {
   "cell_type": "code",
   "execution_count": 15,
   "metadata": {},
   "outputs": [
    {
     "data": {
      "text/plain": [
       "[(('Moby', 'Dick'), 83), (('Moby', '-'), 1)]"
      ]
     },
     "execution_count": 15,
     "metadata": {},
     "output_type": "execute_result"
    }
   ],
   "source": [
    " "
   ]
  },
  {
   "cell_type": "markdown",
   "metadata": {},
   "source": [
    "# 2. Text Preprocessing with NLTK\n",
    "The following exercises will ask questions about tokens, stems, and parts of speech.\n",
    "\n",
    "### Exercise 2.1\n",
    "*What is the sentence with the largest number of tokens in Austen's \"Emma\"?*"
   ]
  },
  {
   "cell_type": "code",
   "execution_count": 48,
   "metadata": {},
   "outputs": [
    {
     "name": "stderr",
     "output_type": "stream",
     "text": [
      "[nltk_data] Downloading package punkt to\n",
      "[nltk_data]     C:\\Users\\Madhur\\AppData\\Roaming\\nltk_data...\n",
      "[nltk_data]   Package punkt is already up-to-date!\n"
     ]
    },
    {
     "data": {
      "text/plain": [
       "['[Emma by Jane Austen 1816]\\n\\nVOLUME I\\n\\nCHAPTER I\\n\\n\\nEmma Woodhouse, handsome, clever, and rich, with a comfortable home\\nand happy disposition, seemed to unite some of the best blessings\\nof existence; and had lived nearly twenty-one years in the world\\nwith very little to distress or vex her.',\n",
       " \"She was the youngest of the two daughters of a most affectionate,\\nindulgent father; and had, in consequence of her sister's marriage,\\nbeen mistress of his house from a very early period.\",\n",
       " 'Her mother\\nhad died too long ago for her to have more than an indistinct\\nremembrance of her caresses; and her place had been supplied\\nby an excellent woman as governess, who had fallen little short\\nof a mother in affection.',\n",
       " \"Sixteen years had Miss Taylor been in Mr. Woodhouse's family,\\nless as a governess than a friend, very fond of both daughters,\\nbut particularly of Emma.\",\n",
       " 'Between _them_ it was more the intimacy\\nof sisters.',\n",
       " \"Even before Miss Taylor had ceased to hold the nominal\\noffice of governess, the mildness of her temper had hardly allowed\\nher to impose any restraint; and the shadow of authority being\\nnow long passed away, they had been living together as friend and\\nfriend very mutually attached, and Emma doing just what she liked;\\nhighly esteeming Miss Taylor's judgment, but directed chiefly by\\nher own.\",\n",
       " \"The real evils, indeed, of Emma's situation were the power of having\\nrather too much her own way, and a disposition to think a little\\ntoo well of herself; these were the disadvantages which threatened\\nalloy to her many enjoyments.\",\n",
       " 'The danger, however, was at present\\nso unperceived, that they did not by any means rank as misfortunes\\nwith her.',\n",
       " 'Sorrow came--a gentle sorrow--but not at all in the shape of any\\ndisagreeable consciousness.--Miss Taylor married.',\n",
       " \"It was Miss\\nTaylor's loss which first brought grief.\",\n",
       " 'It was on the wedding-day\\nof this beloved friend that Emma first sat in mournful thought\\nof any continuance.',\n",
       " 'The wedding over, and the bride-people gone,\\nher father and herself were left to dine together, with no prospect\\nof a third to cheer a long evening.',\n",
       " 'Her father composed himself\\nto sleep after dinner, as usual, and she had then only to sit\\nand think of what she had lost.',\n",
       " 'The event had every promise of happiness for her friend.',\n",
       " \"Mr. Weston\\nwas a man of unexceptionable character, easy fortune, suitable age,\\nand pleasant manners; and there was some satisfaction in considering\\nwith what self-denying, generous friendship she had always wished\\nand promoted the match; but it was a black morning's work for her.\",\n",
       " 'The want of Miss Taylor would be felt every hour of every day.',\n",
       " 'She recalled her past kindness--the kindness, the affection of sixteen\\nyears--how she had taught and how she had played with her from five\\nyears old--how she had devoted all her powers to attach and amuse\\nher in health--and how nursed her through the various illnesses\\nof childhood.',\n",
       " \"A large debt of gratitude was owing here; but the\\nintercourse of the last seven years, the equal footing and perfect\\nunreserve which had soon followed Isabella's marriage, on their\\nbeing left to each other, was yet a dearer, tenderer recollection.\",\n",
       " 'She had been a friend and companion such as few possessed: intelligent,\\nwell-informed, useful, gentle, knowing all the ways of the family,\\ninterested in all its concerns, and peculiarly interested in herself,\\nin every pleasure, every scheme of hers--one to whom she could speak\\nevery thought as it arose, and who had such an affection for her\\nas could never find fault.',\n",
       " 'How was she to bear the change?--It was true that her friend was\\ngoing only half a mile from them; but Emma was aware that great must\\nbe the difference between a Mrs. Weston, only half a mile from them,\\nand a Miss Taylor in the house; and with all her advantages,\\nnatural and domestic, she was now in great danger of suffering\\nfrom intellectual solitude.',\n",
       " 'She dearly loved her father, but he\\nwas no companion for her.',\n",
       " 'He could not meet her in conversation,\\nrational or playful.',\n",
       " 'The evil of the actual disparity in their ages (and Mr. Woodhouse had\\nnot married early) was much increased by his constitution and habits;\\nfor having been a valetudinarian all his life, without activity\\nof mind or body, he was a much older man in ways than in years;\\nand though everywhere beloved for the friendliness of his heart\\nand his amiable temper, his talents could not have recommended him\\nat any time.',\n",
       " 'Her sister, though comparatively but little removed by matrimony,\\nbeing settled in London, only sixteen miles off, was much beyond\\nher daily reach; and many a long October and November evening must\\nbe struggled through at Hartfield, before Christmas brought the next\\nvisit from Isabella and her husband, and their little children,\\nto fill the house, and give her pleasant society again.',\n",
       " 'Highbury, the large and populous village, almost amounting to a town,\\nto which Hartfield, in spite of its separate lawn, and shrubberies,\\nand name, did really belong, afforded her no equals.',\n",
       " 'The Woodhouses\\nwere first in consequence there.',\n",
       " 'All looked up to them.',\n",
       " 'She had\\nmany acquaintance in the place, for her father was universally civil,\\nbut not one among them who could be accepted in lieu of Miss\\nTaylor for even half a day.',\n",
       " 'It was a melancholy change; and Emma\\ncould not but sigh over it, and wish for impossible things,\\ntill her father awoke, and made it necessary to be cheerful.',\n",
       " 'His spirits required support.',\n",
       " 'He was a nervous man, easily depressed;\\nfond of every body that he was used to, and hating to part with them;\\nhating change of every kind.',\n",
       " \"Matrimony, as the origin of change,\\nwas always disagreeable; and he was by no means yet reconciled\\nto his own daughter's marrying, nor could ever speak of her but\\nwith compassion, though it had been entirely a match of affection,\\nwhen he was now obliged to part with Miss Taylor too; and from\\nhis habits of gentle selfishness, and of being never able to\\nsuppose that other people could feel differently from himself,\\nhe was very much disposed to think Miss Taylor had done as sad\\na thing for herself as for them, and would have been a great deal\\nhappier if she had spent all the rest of her life at Hartfield.\",\n",
       " 'Emma smiled and chatted as cheerfully as she could, to keep him\\nfrom such thoughts; but when tea came, it was impossible for him\\nnot to say exactly as he had said at dinner,\\n\\n\"Poor Miss Taylor!--I wish she were here again.',\n",
       " 'What a pity it\\nis that Mr. Weston ever thought of her!\"',\n",
       " '\"I cannot agree with you, papa; you know I cannot.',\n",
       " 'Mr. Weston is such\\na good-humoured, pleasant, excellent man, that he thoroughly deserves\\na good wife;--and you would not have had Miss Taylor live with us\\nfor ever, and bear all my odd humours, when she might have a house of her own?\"',\n",
       " '\"A house of her own!--But where is the advantage of a house of her own?',\n",
       " 'This is three times as large.--And you have never any odd humours,\\nmy dear.\"',\n",
       " '\"How often we shall be going to see them, and they coming to see\\nus!--We shall be always meeting!',\n",
       " '_We_ must begin; we must go and pay\\nwedding visit very soon.\"',\n",
       " '\"My dear, how am I to get so far?',\n",
       " 'Randalls is such a distance.',\n",
       " 'I could not walk half so far.\"',\n",
       " '\"No, papa, nobody thought of your walking.',\n",
       " 'We must go in the carriage,\\nto be sure.\"',\n",
       " '\"The carriage!',\n",
       " 'But James will not like to put the horses to for\\nsuch a little way;--and where are the poor horses to be while we\\nare paying our visit?\"',\n",
       " '\"They are to be put into Mr. Weston\\'s stable, papa.',\n",
       " 'You know we\\nhave settled all that already.',\n",
       " 'We talked it all over with Mr. Weston\\nlast night.',\n",
       " \"And as for James, you may be very sure he will always like\\ngoing to Randalls, because of his daughter's being housemaid there.\",\n",
       " 'I only doubt whether he will ever take us anywhere else.',\n",
       " 'That was\\nyour doing, papa.',\n",
       " 'You got Hannah that good place.',\n",
       " 'Nobody thought\\nof Hannah till you mentioned her--James is so obliged to you!\"',\n",
       " '\"I am very glad I did think of her.',\n",
       " 'It was very lucky, for I would\\nnot have had poor James think himself slighted upon any account;\\nand I am sure she will make a very good servant: she is a civil,\\npretty-spoken girl; I have a great opinion of her.',\n",
       " 'Whenever I see her,\\nshe always curtseys and asks me how I do, in a very pretty manner;\\nand when you have had her here to do needlework, I observe she\\nalways turns the lock of the door the right way and never bangs it.',\n",
       " 'I am sure she will be an excellent servant; and it will be a great\\ncomfort to poor Miss Taylor to have somebody about her that she is\\nused to see.',\n",
       " 'Whenever James goes over to see his daughter, you know,\\nshe will be hearing of us.',\n",
       " 'He will be able to tell her how we\\nall are.\"',\n",
       " 'Emma spared no exertions to maintain this happier flow of ideas,\\nand hoped, by the help of backgammon, to get her father tolerably\\nthrough the evening, and be attacked by no regrets but her own.',\n",
       " 'The backgammon-table was placed; but a visitor immediately afterwards\\nwalked in and made it unnecessary.',\n",
       " \"Mr. Knightley, a sensible man about seven or eight-and-thirty, was not\\nonly a very old and intimate friend of the family, but particularly\\nconnected with it, as the elder brother of Isabella's husband.\",\n",
       " 'He lived about a mile from Highbury, was a frequent visitor,\\nand always welcome, and at this time more welcome than usual,\\nas coming directly from their mutual connexions in London.',\n",
       " \"He had\\nreturned to a late dinner, after some days' absence, and now walked\\nup to Hartfield to say that all were well in Brunswick Square.\",\n",
       " 'It was a happy circumstance, and animated Mr. Woodhouse for some time.',\n",
       " 'Mr. Knightley had a cheerful manner, which always did him good;\\nand his many inquiries after \"poor Isabella\" and her children were\\nanswered most satisfactorily.',\n",
       " 'When this was over, Mr. Woodhouse\\ngratefully observed, \"It is very kind of you, Mr. Knightley, to come\\nout at this late hour to call upon us.',\n",
       " 'I am afraid you must have\\nhad a shocking walk.\"',\n",
       " '\"Not at all, sir.',\n",
       " 'It is a beautiful moonlight night; and so mild\\nthat I must draw back from your great fire.\"',\n",
       " '\"But you must have found it very damp and dirty.',\n",
       " 'I wish you may\\nnot catch cold.\"',\n",
       " '\"Dirty, sir!',\n",
       " 'Look at my shoes.',\n",
       " 'Not a speck on them.\"',\n",
       " '\"Well!',\n",
       " 'that is quite surprising, for we have had a vast deal\\nof rain here.',\n",
       " 'It rained dreadfully hard for half an hour\\nwhile we were at breakfast.',\n",
       " 'I wanted them to put off the wedding.\"',\n",
       " '\"By the bye--I have not wished you joy.',\n",
       " 'Being pretty well aware\\nof what sort of joy you must both be feeling, I have been in no hurry\\nwith my congratulations; but I hope it all went off tolerably well.',\n",
       " 'How did you all behave?',\n",
       " 'Who cried most?\"',\n",
       " '\"Ah!',\n",
       " 'poor Miss Taylor!',\n",
       " '\\'Tis a sad business.\"',\n",
       " '\"Poor Mr. and Miss Woodhouse, if you please; but I cannot possibly\\nsay `poor Miss Taylor.\\'',\n",
       " 'I have a great regard for you and Emma;\\nbut when it comes to the question of dependence or independence!--At\\nany rate, it must be better to have only one to please than two.\"',\n",
       " '\"Especially when _one_ of those two is such a fanciful, troublesome creature!\"',\n",
       " 'said Emma playfully.',\n",
       " '\"That is what you have in your head,\\nI know--and what you would certainly say if my father were not by.\"',\n",
       " '\"I believe it is very true, my dear, indeed,\" said Mr. Woodhouse,\\nwith a sigh.',\n",
       " '\"I am afraid I am sometimes very fanciful and troublesome.\"',\n",
       " '\"My dearest papa!',\n",
       " 'You do not think I could mean _you_, or suppose\\nMr. Knightley to mean _you_.',\n",
       " 'What a horrible idea!',\n",
       " 'Oh no!',\n",
       " 'I meant\\nonly myself.']"
      ]
     },
     "execution_count": 48,
     "metadata": {},
     "output_type": "execute_result"
    }
   ],
   "source": [
    "nltk.download(\"punkt\")\n",
    "text = nltk.corpus.gutenberg.raw('austen-emma.txt')\n",
    "tokens = nltk.sent_tokenize(text)\n",
    "tokens[:100]"
   ]
  },
  {
   "cell_type": "code",
   "execution_count": 52,
   "metadata": {},
   "outputs": [
    {
     "name": "stdout",
     "output_type": "stream",
     "text": [
      "While he lived, it must be only an engagement;\n",
      "but she flattered herself, that if divested of the danger of\n",
      "drawing her away, it might become an increase of comfort to him.--\n",
      "How to do her best by Harriet, was of more difficult decision;--\n",
      "how to spare her from any unnecessary pain; how to make\n",
      "her any possible atonement; how to appear least her enemy?--\n",
      "On these subjects, her perplexity and distress were very great--\n",
      "and her mind had to pass again and again through every bitter\n",
      "reproach and sorrowful regret that had ever surrounded it.--\n",
      "She could only resolve at last, that she would still avoid a\n",
      "meeting with her, and communicate all that need be told by letter;\n",
      "that it would be inexpressibly desirable to have her removed just\n",
      "now for a time from Highbury, and--indulging in one scheme more--\n",
      "nearly resolve, that it might be practicable to get an invitation\n",
      "for her to Brunswick Square.--Isabella had been pleased with Harriet;\n",
      "and a few weeks spent in London must give her some amusement.--\n",
      "She did not think it in Harriet's nature to escape being benefited\n",
      "by novelty and variety, by the streets, the shops, and the children.--\n",
      "At any rate, it would be a proof of attention and kindness in herself,\n",
      "from whom every thing was due; a separation for the present; an averting\n",
      "of the evil day, when they must all be together again.\n"
     ]
    }
   ],
   "source": [
    "print(max(tokens, key = len))"
   ]
  },
  {
   "cell_type": "markdown",
   "metadata": {},
   "source": [
    "### Exercise 2.2\n",
    "*What are the 5 most frequent parts of speech in Austen's \"Emma\"? Use the universal tag set*"
   ]
  },
  {
   "cell_type": "code",
   "execution_count": 20,
   "metadata": {},
   "outputs": [
    {
     "data": {
      "text/plain": [
       "[('VERB', 35723),\n",
       " ('NOUN', 31998),\n",
       " ('.', 30304),\n",
       " ('PRON', 21263),\n",
       " ('ADP', 17880)]"
      ]
     },
     "execution_count": 20,
     "metadata": {},
     "output_type": "execute_result"
    }
   ],
   "source": [
    "\n"
   ]
  },
  {
   "cell_type": "markdown",
   "metadata": {},
   "source": [
    "### Exercise 2.3\n",
    "*What is the number of distinct stems in Austen's \"Emma\"?* "
   ]
  },
  {
   "cell_type": "code",
   "execution_count": 21,
   "metadata": {},
   "outputs": [
    {
     "name": "stdout",
     "output_type": "stream",
     "text": [
      "Austen's Emma has 5394 distinct stems\n"
     ]
    }
   ],
   "source": []
  },
  {
   "cell_type": "markdown",
   "metadata": {},
   "source": [
    "### (Optional) Exercise 2.4\n",
    "*What is the most ambiguous stem in Austen's \"Emma\"? (meaning, which stem in Austen's \"Emma\" is realised in the largest number of distinct tokens?)*"
   ]
  },
  {
   "cell_type": "code",
   "execution_count": 22,
   "metadata": {},
   "outputs": [
    {
     "name": "stdout",
     "output_type": "stream",
     "text": [
      "The most ambiguous stem is 'respect' with words {'Respect', 'respecting', 'respects', 'respectful', 'respectable', 'respective', 'respectfully', 'respectably', 'respected', 'respectability', 'respect'}\n"
     ]
    }
   ],
   "source": []
  },
  {
   "cell_type": "code",
   "execution_count": null,
   "metadata": {},
   "outputs": [],
   "source": []
  }
 ],
 "metadata": {
  "anaconda-cloud": {},
  "interpreter": {
   "hash": "caaf5567c3aefdef4f52a1349ec29785766e460c3f0dbc7a785cd17f2080ad2c"
  },
  "kernelspec": {
   "display_name": "Python 3.7.3 64-bit",
   "name": "python3"
  },
  "language_info": {
   "codemirror_mode": {
    "name": "ipython",
    "version": 3
   },
   "file_extension": ".py",
   "mimetype": "text/x-python",
   "name": "python",
   "nbconvert_exporter": "python",
   "pygments_lexer": "ipython3",
   "version": "3.7.3"
  }
 },
 "nbformat": 4,
 "nbformat_minor": 2
}
